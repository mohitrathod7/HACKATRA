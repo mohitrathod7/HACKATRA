{
 "cells": [
  {
   "cell_type": "code",
   "execution_count": 1,
   "metadata": {},
   "outputs": [],
   "source": [
    "from newspaper import Article\n",
    "\n",
    "# url = 'https://www.sciencedaily.com/releases/2021/08/210811162816.htm'\n",
    "url = 'https://timesofindia.indiatimes.com/business/india-business/rjios-customer-loss-drags-down-telecom-subscribers-growth-in-january-airtel-only-gainer-trai/articleshow/90550135.cms'\n",
    "article = Article(url)\n",
    "article.download()\n",
    "article.parse()"
   ]
  },
  {
   "cell_type": "code",
   "execution_count": 2,
   "metadata": {
    "scrolled": true
   },
   "outputs": [],
   "source": [
    "# article.text"
   ]
  },
  {
   "cell_type": "code",
   "execution_count": 3,
   "metadata": {},
   "outputs": [],
   "source": [
    "import spacy\n",
    "from spacy.lang.en.stop_words import STOP_WORDS\n",
    "from string import punctuation\n",
    "from heapq import nlargest"
   ]
  },
  {
   "cell_type": "code",
   "execution_count": 4,
   "metadata": {},
   "outputs": [],
   "source": [
    "def summarize(text, per):\n",
    "    nlp = spacy.load('en_core_web_sm')\n",
    "    doc= nlp(text)\n",
    "    tokens=[token.text for token in doc]\n",
    "    word_frequencies={}\n",
    "    \n",
    "    for word in doc:\n",
    "        if word.text.lower() not in list(STOP_WORDS):\n",
    "            if word.text.lower() not in punctuation:\n",
    "                if word.text not in word_frequencies.keys():\n",
    "                    word_frequencies[word.text] = 1\n",
    "                else:\n",
    "                    word_frequencies[word.text] += 1\n",
    "\n",
    "    max_frequency=max(word_frequencies.values())\n",
    "\n",
    "    for word in word_frequencies.keys():\n",
    "        word_frequencies[word]=word_frequencies[word]/max_frequency\n",
    "\n",
    "    sentence_tokens= [sent for sent in doc.sents]\n",
    "    sentence_scores = {}\n",
    "\n",
    "    for sent in sentence_tokens:\n",
    "        for word in sent:\n",
    "            if word.text.lower() in word_frequencies.keys():\n",
    "                if sent not in sentence_scores.keys():                            \n",
    "                    sentence_scores[sent]=word_frequencies[word.text.lower()]\n",
    "                else:\n",
    "                    sentence_scores[sent]+=word_frequencies[word.text.lower()]\n",
    "\n",
    "    select_length = int(len(sentence_tokens)*per)\n",
    "    summary       = nlargest(select_length, sentence_scores,key=sentence_scores.get)\n",
    "    final_summary = [word.text for word in summary]\n",
    "    summary       = ''.join(final_summary)\n",
    "\n",
    "    return summary "
   ]
  },
  {
   "cell_type": "code",
   "execution_count": 5,
   "metadata": {
    "scrolled": true
   },
   "outputs": [
    {
     "data": {
      "text/plain": [
       "'\"The number of telephone subscribers in India decreased from 1,178.41 million (117.84 crore) at the end of December 2021 to 1,169.46 million (116.94 crore) at the end of January,2022, thereby showing a monthly decline rate of 0.76 per cent,\" the TRAI report said.Reliance Jio was the biggest loser in the mobile services segment in January as it lost 93.22 lakh customers, said the monthly subscriber report of the Telecom Regulatory Authority of India (TRAI).Mobile or the wireless segment accounts for about 98 per cent of the total telecom subscriber base in the country.\"The total broadband subscribers decreased from 792.08 million at the end of December \\'21 to 783.43 million at the end of January \\'22 with a monthly decline rate of 1.1 per cent,\" the report said.It was followed by Bharti Airtel with 21 crore broadband subscribers, Vodafone Idea 12.1 crore, BSNL 2.62 crore and Atria Convergence 20 lakh broadband customers, according to the report.'"
      ]
     },
     "execution_count": 5,
     "metadata": {},
     "output_type": "execute_result"
    }
   ],
   "source": [
    "summarize(article.text, 0.25)"
   ]
  }
 ],
 "metadata": {
  "kernelspec": {
   "display_name": "Python 3",
   "language": "python",
   "name": "python3"
  },
  "language_info": {
   "codemirror_mode": {
    "name": "ipython",
    "version": 3
   },
   "file_extension": ".py",
   "mimetype": "text/x-python",
   "name": "python",
   "nbconvert_exporter": "python",
   "pygments_lexer": "ipython3",
   "version": "3.9.6"
  }
 },
 "nbformat": 4,
 "nbformat_minor": 2
}
